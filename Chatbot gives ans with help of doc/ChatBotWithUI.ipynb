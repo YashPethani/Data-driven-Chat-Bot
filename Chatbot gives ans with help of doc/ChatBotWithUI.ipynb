{
 "cells": [
  {
   "cell_type": "code",
   "execution_count": 1,
   "metadata": {},
   "outputs": [],
   "source": [
    "import os\n",
    "import tkinter as tk\n",
    "from tkinter import filedialog, scrolledtext, messagebox\n",
    "from PyPDF2 import PdfReader\n",
    "from langchain.embeddings.openai import OpenAIEmbeddings\n",
    "from langchain.text_splitter import CharacterTextSplitter\n",
    "from langchain.vectorstores import FAISS\n",
    "from langchain.chains.question_answering import load_qa_chain\n",
    "from langchain.llms import OpenAI"
   ]
  },
  {
   "cell_type": "code",
   "execution_count": 2,
   "metadata": {},
   "outputs": [],
   "source": [
    "# Function to read text from multiple PDFs\n",
    "def read_pdfs_from_folder(folder_path):\n",
    "    raw_text = ''\n",
    "    for file_name in os.listdir(folder_path):\n",
    "        if file_name.endswith('.pdf'):\n",
    "            file_path = os.path.join(folder_path, file_name)\n",
    "            pdfreader = PdfReader(file_path)\n",
    "            for i, page in enumerate(pdfreader.pages):\n",
    "                content = page.extract_text()\n",
    "                if content:\n",
    "                    raw_text += content\n",
    "    return raw_text"
   ]
  },
  {
   "cell_type": "code",
   "execution_count": 3,
   "metadata": {},
   "outputs": [],
   "source": [
    "# Function to process PDFs and answer questions\n",
    "def process_pdfs_and_answer_questions(folder_path, questions):\n",
    "    raw_text = read_pdfs_from_folder(folder_path)\n",
    "    \n",
    "    if not raw_text:\n",
    "        return [(\"No text found in PDFs.\", \"Please check the PDF files in the selected folder.\")]\n",
    "    \n",
    "    text_splitter = CharacterTextSplitter(\n",
    "        separator = \"\\n\",\n",
    "        chunk_size = 800,\n",
    "        chunk_overlap = 200,\n",
    "        length_function = len,\n",
    "    )\n",
    "    texts = text_splitter.split_text(raw_text)\n",
    "\n",
    "    if not texts:\n",
    "        return [(\"Text splitting resulted in empty chunks.\", \"Please check the PDF files and ensure they contain readable text.\")]\n",
    "    \n",
    "    embeddings = OpenAIEmbeddings()\n",
    "    document_search = FAISS.from_texts(texts, embeddings)\n",
    "    chain = load_qa_chain(OpenAI(), chain_type=\"stuff\")\n",
    "    \n",
    "    results = []\n",
    "    for question in questions:\n",
    "        docs = document_search.similarity_search(question)\n",
    "        if not docs:\n",
    "            results.append((question, \"No relevant documents found.\"))\n",
    "            continue\n",
    "        answer = chain.run(input_documents=docs, question=question)\n",
    "        results.append((question, answer))\n",
    "    \n",
    "    return results"
   ]
  },
  {
   "cell_type": "code",
   "execution_count": 4,
   "metadata": {},
   "outputs": [],
   "source": [
    "# Function to browse folder\n",
    "def browse_folder():\n",
    "    folder_selected = filedialog.askdirectory()\n",
    "    folder_path_entry.delete(0, tk.END)\n",
    "    folder_path_entry.insert(0, folder_selected)"
   ]
  },
  {
   "cell_type": "code",
   "execution_count": 5,
   "metadata": {},
   "outputs": [],
   "source": [
    "# Function to run the processing and display the results\n",
    "def run_processing():\n",
    "    folder_path = folder_path_entry.get()\n",
    "    if not folder_path:\n",
    "        messagebox.showerror(\"Error\", \"Please select a folder containing PDF files.\")\n",
    "        return\n",
    "    \n",
    "    questions = questions_text.get(\"1.0\", tk.END).strip().split('\\n')\n",
    "    if not questions:\n",
    "        messagebox.showerror(\"Error\", \"Please enter at least one question.\")\n",
    "        return\n",
    "    \n",
    "    results = process_pdfs_and_answer_questions(folder_path, questions)\n",
    "    \n",
    "    for question, answer in results:\n",
    "        result_text.insert(tk.END, f\"Question: {question}\\nAnswer: {answer}\\n\\n\")"
   ]
  },
  {
   "cell_type": "code",
   "execution_count": 6,
   "metadata": {},
   "outputs": [
    {
     "data": {
      "text/plain": [
       "''"
      ]
     },
     "execution_count": 6,
     "metadata": {},
     "output_type": "execute_result"
    }
   ],
   "source": [
    "# Create the main window\n",
    "window = tk.Tk()\n",
    "window.title(\"PDF QA System\")"
   ]
  },
  {
   "cell_type": "code",
   "execution_count": 7,
   "metadata": {},
   "outputs": [],
   "source": [
    "# Folder selection UI\n",
    "folder_frame = tk.Frame(window)\n",
    "folder_frame.pack(pady=10)\n",
    "\n",
    "folder_path_label = tk.Label(folder_frame, text=\"Folder Path:\")\n",
    "folder_path_label.pack(side=tk.LEFT, padx=5)\n",
    "\n",
    "folder_path_entry = tk.Entry(folder_frame, width=50)\n",
    "folder_path_entry.pack(side=tk.LEFT, padx=5)\n",
    "\n",
    "browse_button = tk.Button(folder_frame, text=\"Browse\", command=browse_folder)\n",
    "browse_button.pack(side=tk.LEFT, padx=5)"
   ]
  },
  {
   "cell_type": "code",
   "execution_count": 8,
   "metadata": {},
   "outputs": [],
   "source": [
    "# Questions input UI\n",
    "questions_label = tk.Label(window, text=\"Enter your questions (one per line):\")\n",
    "questions_label.pack(pady=10)\n",
    "\n",
    "questions_text = scrolledtext.ScrolledText(window, width=80, height=10)\n",
    "questions_text.pack(pady=10)"
   ]
  },
  {
   "cell_type": "code",
   "execution_count": 9,
   "metadata": {},
   "outputs": [
    {
     "name": "stderr",
     "output_type": "stream",
     "text": [
      "C:\\Users\\petha\\AppData\\Local\\Packages\\PythonSoftwareFoundation.Python.3.12_qbz5n2kfra8p0\\LocalCache\\local-packages\\Python312\\site-packages\\langchain_core\\_api\\deprecation.py:119: LangChainDeprecationWarning: The class `OpenAIEmbeddings` was deprecated in LangChain 0.0.9 and will be removed in 0.3.0. An updated version of the class exists in the langchain-openai package and should be used instead. To use it run `pip install -U langchain-openai` and import as `from langchain_openai import OpenAIEmbeddings`.\n",
      "  warn_deprecated(\n",
      "Exception in Tkinter callback\n",
      "Traceback (most recent call last):\n",
      "  File \"C:\\Program Files\\WindowsApps\\PythonSoftwareFoundation.Python.3.12_3.12.1520.0_x64__qbz5n2kfra8p0\\Lib\\tkinter\\__init__.py\", line 1968, in __call__\n",
      "    return self.func(*args)\n",
      "           ^^^^^^^^^^^^^^^^\n",
      "  File \"C:\\Users\\petha\\AppData\\Local\\Temp\\ipykernel_10364\\3009294353.py\", line 13, in run_processing\n",
      "    results = process_pdfs_and_answer_questions(folder_path, questions)\n",
      "              ^^^^^^^^^^^^^^^^^^^^^^^^^^^^^^^^^^^^^^^^^^^^^^^^^^^^^^^^^\n",
      "  File \"C:\\Users\\petha\\AppData\\Local\\Temp\\ipykernel_10364\\194440483.py\", line 19, in process_pdfs_and_answer_questions\n",
      "    embeddings = OpenAIEmbeddings()\n",
      "                 ^^^^^^^^^^^^^^^^^^\n",
      "  File \"C:\\Users\\petha\\AppData\\Local\\Packages\\PythonSoftwareFoundation.Python.3.12_qbz5n2kfra8p0\\LocalCache\\local-packages\\Python312\\site-packages\\langchain_core\\_api\\deprecation.py\", line 183, in warn_if_direct_instance\n",
      "    return wrapped(self, *args, **kwargs)\n",
      "           ^^^^^^^^^^^^^^^^^^^^^^^^^^^^^^\n",
      "  File \"C:\\Users\\petha\\AppData\\Local\\Packages\\PythonSoftwareFoundation.Python.3.12_qbz5n2kfra8p0\\LocalCache\\local-packages\\Python312\\site-packages\\pydantic\\main.py\", line 341, in __init__\n",
      "    raise validation_error\n",
      "pydantic.error_wrappers.ValidationError: 1 validation error for OpenAIEmbeddings\n",
      "__root__\n",
      "  Did not find openai_api_key, please add an environment variable `OPENAI_API_KEY` which contains it, or pass `openai_api_key` as a named parameter. (type=value_error)\n"
     ]
    }
   ],
   "source": [
    "# Run button\n",
    "run_button = tk.Button(window, text=\"Run\", command=run_processing)\n",
    "run_button.pack(pady=10)\n",
    "\n",
    "# Result display UI\n",
    "result_label = tk.Label(window, text=\"Results:\")\n",
    "result_label.pack(pady=10)\n",
    "\n",
    "result_text = scrolledtext.ScrolledText(window, width=80, height=20)\n",
    "result_text.pack(pady=10)\n",
    "\n",
    "# Start the GUI event loop\n",
    "window.mainloop()"
   ]
  }
 ],
 "metadata": {
  "kernelspec": {
   "display_name": "Python 3",
   "language": "python",
   "name": "python3"
  },
  "language_info": {
   "codemirror_mode": {
    "name": "ipython",
    "version": 3
   },
   "file_extension": ".py",
   "mimetype": "text/x-python",
   "name": "python",
   "nbconvert_exporter": "python",
   "pygments_lexer": "ipython3",
   "version": "3.12.5"
  }
 },
 "nbformat": 4,
 "nbformat_minor": 2
}
